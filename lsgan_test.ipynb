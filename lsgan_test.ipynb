{
 "cells": [
  {
   "cell_type": "code",
   "execution_count": 1,
   "metadata": {},
   "outputs": [],
   "source": [
    "%matplotlib inline\n",
    "import numpy as np\n",
    "import paddle\n",
    "import paddle.fluid as fluid\n",
    "import matplotlib.pyplot as plt\n",
    "import matplotlib.gridspec as gridspec\n",
    "import os\n",
    "\n",
    "\n",
    "z_dim = 100\n",
    "batch_size = 128\n",
    "step_per_epoch = 60000 / batch_size"
   ]
  },
  {
   "cell_type": "markdown",
   "metadata": {},
   "source": [
    "Generator & Discriminator"
   ]
  },
  {
   "cell_type": "code",
   "execution_count": 2,
   "metadata": {},
   "outputs": [],
   "source": [
    "def generator(z, name=\"G\"):\n",
    "    with fluid.unique_name.guard(name + \"/\"):\n",
    "        y = z\n",
    "        \n",
    "        y = fluid.layers.fc(y, size=1024, act='tanh')\n",
    "        y = fluid.layers.fc(y, size=128 * 7 * 7)\n",
    "        y = fluid.layers.batch_norm(y, act='tanh')\n",
    "        y = fluid.layers.reshape(y, shape=(-1, 128, 7, 7))\n",
    "\n",
    "        y = fluid.layers.image_resize(y, scale=2)\n",
    "        y = fluid.layers.conv2d(y, num_filters=64, filter_size=5, padding=2, act='tanh')\n",
    "\n",
    "        y = fluid.layers.image_resize(y, scale=2)\n",
    "        y = fluid.layers.conv2d(y, num_filters=1, filter_size=5, padding=2, act='tanh')\n",
    "\n",
    "    return y\n",
    "        "
   ]
  },
  {
   "cell_type": "code",
   "execution_count": 3,
   "metadata": {},
   "outputs": [],
   "source": [
    "def discriminator(image, name=\"D\"):\n",
    "    with fluid.unique_name.guard(name+'_'):\n",
    "        conv1 = fluid.layers.conv2d(input=image, num_filters=32,\n",
    "                                    filter_size=6, stride=2,\n",
    "                                    padding=2)\n",
    "        conv1_act = fluid.layers.leaky_relu(conv1)\n",
    "        \n",
    "        conv2 = fluid.layers.conv2d(conv1_act, num_filters=64, \n",
    "                                    filter_size=6, stride=2,\n",
    "                                    padding=2)\n",
    "        conv2 = fluid.layers.batch_norm(conv2)\n",
    "        conv2_act = fluid.layers.leaky_relu(conv2)\n",
    "        \n",
    "        fc1 = fluid.layers.reshape(conv2_act, shape=(-1,64*7*7))\n",
    "        fc1 = fluid.layers.fc(fc1, size=512)\n",
    "        fc1_bn = fluid.layers.batch_norm(fc1)\n",
    "#         fc1_act = fluid.layers.leaky_relu(fc1_bn)\n",
    "        \n",
    "        #有没有sigmoid的act???\n",
    "#         fc2 = fluid.layers.fc(fc1_act, size=1, act='sigmoid')\n",
    "        fc2 = fluid.layers.fc(fc1_bn, size=1)\n",
    "        print(\"fc2\",fc2)\n",
    "        return fc2"
   ]
  },
  {
   "cell_type": "markdown",
   "metadata": {},
   "source": [
    "Training"
   ]
  },
  {
   "cell_type": "code",
   "execution_count": 4,
   "metadata": {},
   "outputs": [],
   "source": [
    "def get_params(program, prefix):\n",
    "    all_params = program.global_block().all_parameters()\n",
    "    return [t.name for t in all_params if t.name.startswith(prefix)]"
   ]
  },
  {
   "cell_type": "code",
   "execution_count": 5,
   "metadata": {},
   "outputs": [
    {
     "name": "stdout",
     "output_type": "stream",
     "text": [
      "('fc2', name: \"D_D_fc_1.tmp_1\"\n",
      "type {\n",
      "  type: LOD_TENSOR\n",
      "  lod_tensor {\n",
      "    tensor {\n",
      "      data_type: FP32\n",
      "      dims: -1\n",
      "      dims: 1\n",
      "    }\n",
      "    lod_level: 0\n",
      "  }\n",
      "}\n",
      "persistable: false\n",
      ")\n",
      "[u'G/G/fc_0.w_0', u'G/G/fc_0.b_0', u'G/G/fc_1.w_0', u'G/G/fc_1.b_0', u'G/G/batch_norm_0.w_0', u'G/G/batch_norm_0.b_0', u'G/G/batch_norm_0.w_1', u'G/G/batch_norm_0.w_2', u'G/G/conv2d_0.w_0', u'G/G/conv2d_0.b_0', u'G/G/conv2d_1.w_0', u'G/G/conv2d_1.b_0']\n"
     ]
    }
   ],
   "source": [
    "#优化generator\n",
    "G_program = fluid.Program()\n",
    "with fluid.program_guard(G_program):\n",
    "    z = fluid.layers.data(name='z', shape=[z_dim,1,1])\n",
    "    # 用生成器G生成样本图片\n",
    "    G_sample = generator(z)\n",
    "    infer_program = G_program.clone(for_test=True)\n",
    "    # 用判别器D判别生成的样本\n",
    "    D_fake = discriminator(G_sample)\n",
    "    \n",
    "#     ones = fluid.layers.fill_constant_batch_size_like(z, shape=[-1, 1], dtype='float32', value=1)\n",
    "    # G损失\n",
    "    # G Least square cost\n",
    "    G_loss = fluid.layers.reduce_mean(fluid.layers.square(D_fake-1))/2.\n",
    "    # 获取G的参数\n",
    "    G_params = get_params(G_program, \"G\")\n",
    "    \n",
    "    # 使用Adam优化器\n",
    "    G_optimizer = fluid.optimizer.RMSPropOptimizer(learning_rate=0.001)\n",
    "    # 训练G\n",
    "    G_optimizer.minimize(G_loss,parameter_list = G_params)\n",
    "    print(G_params)"
   ]
  },
  {
   "cell_type": "code",
   "execution_count": 6,
   "metadata": {},
   "outputs": [
    {
     "name": "stdout",
     "output_type": "stream",
     "text": [
      "('fc2', name: \"D_D_fc_1.tmp_1\"\n",
      "type {\n",
      "  type: LOD_TENSOR\n",
      "  lod_tensor {\n",
      "    tensor {\n",
      "      data_type: FP32\n",
      "      dims: -1\n",
      "      dims: 1\n",
      "    }\n",
      "    lod_level: 0\n",
      "  }\n",
      "}\n",
      "persistable: false\n",
      ")\n",
      "('fc2', name: \"D_D_fc_1.tmp_1\"\n",
      "type {\n",
      "  type: LOD_TENSOR\n",
      "  lod_tensor {\n",
      "    tensor {\n",
      "      data_type: FP32\n",
      "      dims: -1\n",
      "      dims: 1\n",
      "    }\n",
      "    lod_level: 0\n",
      "  }\n",
      "}\n",
      "persistable: false\n",
      ")\n",
      "('D_real', name: \"D_D_fc_1.tmp_1\"\n",
      "type {\n",
      "  type: LOD_TENSOR\n",
      "  lod_tensor {\n",
      "    tensor {\n",
      "      data_type: FP32\n",
      "      dims: -1\n",
      "      dims: 1\n",
      "    }\n",
      "    lod_level: 0\n",
      "  }\n",
      "}\n",
      "persistable: false\n",
      ")\n",
      "('D_fake', name: \"D_D_fc_1.tmp_1\"\n",
      "type {\n",
      "  type: LOD_TENSOR\n",
      "  lod_tensor {\n",
      "    tensor {\n",
      "      data_type: FP32\n",
      "      dims: -1\n",
      "      dims: 1\n",
      "    }\n",
      "    lod_level: 0\n",
      "  }\n",
      "}\n",
      "persistable: false\n",
      ")\n",
      "('D_loss', name: \"tmp_8\"\n",
      "type {\n",
      "  type: LOD_TENSOR\n",
      "  lod_tensor {\n",
      "    tensor {\n",
      "      data_type: FP32\n",
      "      dims: 1\n",
      "    }\n",
      "    lod_level: 0\n",
      "  }\n",
      "}\n",
      ")\n",
      "[u'D_D_conv2d_0.w_0', u'D_D_conv2d_0.b_0', u'D_D_conv2d_1.w_0', u'D_D_conv2d_1.b_0', u'D_D_batch_norm_0.w_0', u'D_D_batch_norm_0.b_0', u'D_D_batch_norm_0.w_1', u'D_D_batch_norm_0.w_2', u'D_D_fc_0.w_0', u'D_D_fc_0.b_0', u'D_D_batch_norm_1.w_0', u'D_D_batch_norm_1.b_0', u'D_D_batch_norm_1.w_1', u'D_D_batch_norm_1.w_2', u'D_D_fc_1.w_0', u'D_D_fc_1.b_0']\n"
     ]
    }
   ],
   "source": [
    "# 优化discriminator\n",
    "D_program = fluid.Program()\n",
    "with fluid.program_guard(D_program):\n",
    "    z = fluid.layers.data(name='z', shape=[z_dim,1,1])\n",
    "    # 用生成器G生成样本图片\n",
    "    G_sample = generator(z)\n",
    "    real = fluid.layers.data(name='img', shape=[1, 28, 28])\n",
    "    # 用判别器D判别真实的样本\n",
    "    D_real = discriminator(real)\n",
    "    # 用判别器D判别生成的样本\n",
    "    D_fake = discriminator(G_sample)\n",
    "    # D损失\n",
    "    print(\"D_real\",D_real)\n",
    "    print(\"D_fake\",D_fake)\n",
    "    # D Least square cost\n",
    "    D_loss = fluid.layers.reduce_mean(fluid.layers.square(D_real-1.)+fluid.layers.square(D_fake))/2.\n",
    "    print(\"D_loss\",D_loss)\n",
    "    # 获取D的参数列表\n",
    "    D_params = get_params(D_program, \"D\")\n",
    "    # 使用Adam优化\n",
    "    D_optimizer = fluid.optimizer.RMSPropOptimizer(learning_rate=0.001)\n",
    "    D_optimizer.minimize(D_loss, parameter_list = D_params)\n",
    "    print(D_params)"
   ]
  },
  {
   "cell_type": "code",
   "execution_count": 7,
   "metadata": {},
   "outputs": [],
   "source": [
    "#读入数据，只载入训练集\n",
    "# train_reader = paddle.batch(paddle.reader.shuffle(paddle.dataset.mnist.train(),\n",
    "#                                                     buf_size = 1024),\n",
    "#                                                     batch_size = batch_size)\n",
    "# #Executor\n",
    "# exe = fluid.Executor(fluid.CPUPlace())\n",
    "# exe.run(program=fluid.default_startup_program())\n",
    "\n",
    "# #Inference\n",
    "# Infer_program = fluid.Program()\n",
    "# with fluid.program_guard(main_program = Infer_program):   \n",
    "#     z = fluid.layers.data(name='z', shape=[-1,z_dim], dtype='float32')\n",
    "#     G_sample = generator(z)\n",
    "    \n",
    "# it = 0\n",
    "# for _ in range(1000):\n",
    "#     for data in train_reader():\n",
    "#         it += 1\n",
    "#         # 获取训练集图像\n",
    "#         X_mb = [data[i][0] for i in range(batch_size)]\n",
    "#         Z_noise = np.random.uniform(-1., 1., size=[batch_size,z_dim])\n",
    "        \n",
    "#         D_feeding={\"img\" : np.array(X_mb).astype('float32'),\n",
    "#                     \"z\" : np.array(Z_noise).astype('float32')}\n",
    "        \n",
    "#         G_feeding={\"z\" : np.array(Z_noise).astype('float32')}\n",
    "        \n",
    "# #         D_loss_curr = exe.run(feed = D_feeding, \n",
    "# #                       program = D_program, \n",
    "# #                       fetch_list = [D_loss])\n",
    "\n",
    "#         G_loss_curr = exe.run(feed = G_feeding, \n",
    "#                               program = G_program, \n",
    "#                               fetch_list = [G_loss])\n",
    "        \n",
    "# #         if it % 1000 == 0:\n",
    "# #             print(str(it) + ' | ' \n",
    "# #                   + str (D_loss_curr[0][0]) + ' | ' \n",
    "# #                   + str (G_loss_curr[0][0]))\n",
    "            \n",
    "#         if it % 10000 == 0:\n",
    "#             #显示模型生成结果\n",
    "#             Z_noise = np.random.uniform(-1., 1., size=[batch_size,z_dim])\n",
    "#             G_feeding={\"z\" : np.array(Z_noise).astype('float32')}\n",
    "#             samples = exe.run(feed = G_feeding,\n",
    "#                               program = Infer_program,\n",
    "#                               fetch_list = [G_sample])\n",
    "#             plt.subplot(241)\n",
    "#             plt.imshow(np.reshape(X_mb[0], [28, 28]), \n",
    "#                        cmap=plt.cm.BuPu_r)\n",
    "#             for i in range(7):\n",
    "#                 plt.subplot(242 + i)\n",
    "#                 plt.imshow(np.reshape(samples[0][i], [28,28]), \n",
    "#                            cmap=plt.cm.BuPu_r)\n",
    "#             plt.show()"
   ]
  },
  {
   "cell_type": "code",
   "execution_count": 8,
   "metadata": {},
   "outputs": [],
   "source": [
    "def show_image_grid(images, epoch=None): # images.shape = (64, 1, 28, 28)\n",
    "    fig = plt.figure(figsize=(5, 5))\n",
    "    fig.suptitle(\"Epoch {}\".format(epoch))\n",
    "    gs = plt.GridSpec(8, 8)\n",
    "    gs.update(wspace=0.05, hspace=0.05)\n",
    "\n",
    "    for i, image in enumerate(images[:64]):\n",
    "        ax = plt.subplot(gs[i])\n",
    "        plt.axis('off')\n",
    "        ax.set_xticklabels([])\n",
    "        ax.set_yticklabels([])\n",
    "        ax.set_aspect('equal')\n",
    "#         plt.imshow(image[0], cmap='Greys_r')\n",
    "        plt.imshow(image[0], cmap='Greys_r')\n",
    "    plt.show()"
   ]
  },
  {
   "cell_type": "code",
   "execution_count": 9,
   "metadata": {},
   "outputs": [],
   "source": [
    "batch_size = 128\n",
    "step_per_epoch = 60000 / batch_size\n",
    "\n",
    "# 噪声生成\n",
    "def z_reader():\n",
    "    while True:\n",
    "        yield np.random.normal(0.0, 1.0, (z_dim, 1, 1)).astype('float32')"
   ]
  },
  {
   "cell_type": "code",
   "execution_count": 10,
   "metadata": {},
   "outputs": [],
   "source": [
    "# MNIST数据集，不使用label\n",
    "def mnist_reader(reader):\n",
    "    def r():\n",
    "        for img, label in reader():\n",
    "            yield img.reshape(1, 28, 28)\n",
    "    return r\n",
    "\n",
    "mnist_generator = paddle.batch(\n",
    "    paddle.reader.shuffle(mnist_reader(paddle.dataset.mnist.train()), 1024), batch_size=batch_size)\n",
    "z_generator = paddle.batch(z_reader, batch_size=batch_size)()"
   ]
  },
  {
   "cell_type": "code",
   "execution_count": 11,
   "metadata": {},
   "outputs": [
    {
     "data": {
      "text/plain": [
       "[]"
      ]
     },
     "execution_count": 11,
     "metadata": {},
     "output_type": "execute_result"
    }
   ],
   "source": [
    "place = fluid.CUDAPlace(0) if fluid.core.is_compiled_with_cuda() else fluid.CPUPlace()\n",
    "exe = fluid.Executor(place)\n",
    "exe.run(program=fluid.default_startup_program())"
   ]
  },
  {
   "cell_type": "code",
   "execution_count": 12,
   "metadata": {},
   "outputs": [],
   "source": [
    "np.random.seed(0)\n",
    "test_z = np.array(next(z_generator))\n",
    "#print(\"test_z\",test_z) "
   ]
  },
  {
   "cell_type": "code",
   "execution_count": null,
   "metadata": {},
   "outputs": [
    {
     "name": "stdout",
     "output_type": "stream",
     "text": [
      "Epoch 0 batch 0 d 2.36631250381 g 184.83972168\n",
      "Epoch 0 batch 50 d 14.2643966675 g 6.03646087646\n",
      "Epoch 0 batch 100 d 7.37970256805 g 3.13961005211\n",
      "Epoch 0 batch 150 d 5.05142974854 g 2.15960288048\n",
      "Epoch 0 batch 200 d 3.88256311417 g 1.66660952568\n",
      "Epoch 0 batch 250 d 3.17431688309 g 1.36731469631\n",
      "Epoch 0 batch 300 d 2.70140838623 g 1.16741204262\n"
     ]
    }
   ],
   "source": [
    "for epoch in range(100):\n",
    "    epoch_d_loss = []\n",
    "    epoch_g_loss = []\n",
    "    \n",
    "    for i, real_image in enumerate(mnist_generator()):\n",
    "        step = epoch * step_per_epoch + i\n",
    "        \n",
    "        # 训练D识别真实图片 \n",
    "        r_d = exe.run(D_program, fetch_list=[D_loss], feed={\n",
    "            'img': np.array(real_image),\n",
    "            'z': np.array(next(z_generator))\n",
    "        })\n",
    "        epoch_d_loss.append(np.mean(r_d))\n",
    "        \n",
    "        ## 训练G生成符合D标准的“真实”图片\n",
    "        r_g = exe.run(G_program, fetch_list=[G_loss], feed={\n",
    "            'z': np.array(next(z_generator))\n",
    "        })\n",
    "        epoch_g_loss.append(np.mean(r_g))\n",
    "        \n",
    "        if i % 50 == 0:\n",
    "            print(\"Epoch {} batch {} d {} g {}\".format(\n",
    "                epoch, i, np.mean(epoch_d_loss), np.mean(epoch_g_loss)\n",
    "            ))\n",
    "        \n",
    "    # 测试\n",
    "    r_i = exe.run(infer_program, fetch_list=[G_sample], feed={\n",
    "        'z': test_z\n",
    "    })\n",
    "    show_image_grid(r_i[0], epoch)"
   ]
  },
  {
   "cell_type": "code",
   "execution_count": null,
   "metadata": {},
   "outputs": [],
   "source": []
  },
  {
   "cell_type": "code",
   "execution_count": null,
   "metadata": {},
   "outputs": [],
   "source": []
  }
 ],
 "metadata": {
  "kernelspec": {
   "display_name": "Python 2",
   "language": "python",
   "name": "python2"
  },
  "language_info": {
   "codemirror_mode": {
    "name": "ipython",
    "version": 2
   },
   "file_extension": ".py",
   "mimetype": "text/x-python",
   "name": "python",
   "nbconvert_exporter": "python",
   "pygments_lexer": "ipython2",
   "version": "2.7.15"
  }
 },
 "nbformat": 4,
 "nbformat_minor": 1
}
